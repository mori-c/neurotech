{
 "cells": [
  {
   "cell_type": "markdown",
   "metadata": {},
   "source": [
    "# Week 2c: Coding the Fourier Transform (bonus)"
   ]
  },
  {
   "cell_type": "code",
   "execution_count": 13,
   "metadata": {},
   "outputs": [
    {
     "name": "stdout",
     "output_type": "stream",
     "text": [
      "The autoreload extension is already loaded. To reload it, use:\n",
      "  %reload_ext autoreload\n"
     ]
    }
   ],
   "source": [
    "%load_ext autoreload\n",
    "%autoreload 2\n",
    "\n",
    "import csv\n",
    "import matplotlib.pyplot as plt\n",
    "import numpy as np\n",
    "\n",
    "from biosppy import tools as biosppy_tools\n",
    "from scipy import signal"
   ]
  },
  {
   "cell_type": "markdown",
   "metadata": {},
   "source": [
    "Let's try coding a function that calculates the Fourier Transform of a function! \n",
    "\n",
    "(We'll use the *Discrete Time Fourier Transform* method. DTFTs are rarely used in rare life; the *Fast Fourier Transform* achieves the same result but is far more efficient because it takes advantage of calculations that have already been done. Read up on *dynamic programming* if you're interested in that :))) )"
   ]
  },
  {
   "cell_type": "markdown",
   "metadata": {},
   "source": [
    "First, let's introduce a simple but important concept: **the dot product** : (note that $x$ and $y$ are in N-dimensional space)\n",
    "\n",
    "$$x \\cdot y = \\sum_{i=0}^{N} x_{i}y_{i}$$\n",
    "\n",
    "(*You might have seen this formular applied to 2D space like this:)*\n",
    "$$x \\cdot y = ||x|| ||y|| cos \\theta$$\n",
    "\n",
    "Essentially, the dot product of two vectors $x$ and $y$ gives a vector $z$ which is a *projection of $x$ on $y$:* how much of $x$ do you need to make $y$?\n",
    "\n",
    "![Dot product](./../resources/dot-product.png)\n",
    "Cohen M. (2014). *Analyzing Neural Time Series Data*.\n",
    "\n",
    "Try it yourself! Compute the dot product of vectors $x=[0, 1, 2]$ and $y=[1, 0, 0]$ without using numpy or things like that. What do you get?"
   ]
  },
  {
   "cell_type": "code",
   "execution_count": 6,
   "metadata": {},
   "outputs": [],
   "source": [
    "x = [0, 1, 2]\n",
    "y = [1, 0, 0]\n",
    "\n",
    "# Sum over _____\n",
    "    # and multiply _____"
   ]
  },
  {
   "cell_type": "markdown",
   "metadata": {},
   "source": []
  },
  {
   "cell_type": "code",
   "execution_count": null,
   "metadata": {},
   "outputs": [],
   "source": []
  }
 ],
 "metadata": {
  "kernelspec": {
   "display_name": "Python 3",
   "language": "python",
   "name": "python3"
  },
  "language_info": {
   "codemirror_mode": {
    "name": "ipython",
    "version": 3
   },
   "file_extension": ".py",
   "mimetype": "text/x-python",
   "name": "python",
   "nbconvert_exporter": "python",
   "pygments_lexer": "ipython3",
   "version": "3.6.6"
  }
 },
 "nbformat": 4,
 "nbformat_minor": 2
}
