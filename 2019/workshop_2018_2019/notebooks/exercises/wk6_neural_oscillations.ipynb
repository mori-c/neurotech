{
 "cells": [
  {
   "cell_type": "markdown",
   "metadata": {},
   "source": [
    "# Week 6: Neural Oscillations"
   ]
  },
  {
   "cell_type": "markdown",
   "metadata": {},
   "source": [
    "Note: you're going to need to install ***mne*** for this workshop. Use pip to do this!"
   ]
  },
  {
   "cell_type": "code",
   "execution_count": null,
   "metadata": {},
   "outputs": [],
   "source": [
    "%load_ext autoreload\n",
    "%autoreload 2\n",
    "\n",
    "import csv\n",
    "import mne\n",
    "import matplotlib.pyplot as plt\n",
    "import numpy as np\n",
    "\n",
    "import biosppy\n",
    "from scipy import signal"
   ]
  },
  {
   "cell_type": "markdown",
   "metadata": {},
   "source": [
    "Congrats! So far, you've filtered your first EEG signal, explored a bit of neuroscience, learned about how to choose your filters, and learned about power spectral analysis! Now, we're going to try and use power spectral analysis to interpret some EEG.\n",
    "\n",
    "We'll be giving you two samples of EEG. Your goal will be to decipher what's going on in each of these samples. *Let the investigation begin!*\n",
    "\n",
    "Often times, EEG is saved as an ***FIF*** file, which is a (much more) standard file format than CSV for EEG data. We're going to use a library called **mne** to read in the FIF file (MNE is actually a really epic library for EEG and MEG analysis, but it's a bit too much for the scope of this course). First, let's load in the data:"
   ]
  },
  {
   "cell_type": "code",
   "execution_count": null,
   "metadata": {},
   "outputs": [],
   "source": [
    "EEG_SAMPLE_1 = \"./../data/eeg_sample_1.fif\"\n",
    "EEG_SAMPLE_2 = \"./../data/eeg_sample_2.fif\""
   ]
  },
  {
   "cell_type": "code",
   "execution_count": null,
   "metadata": {},
   "outputs": [],
   "source": [
    "eeg_fif_1 = mne.io.read_raw_fif(EEG_SAMPLE_1)\n",
    "eeg_fif_2 = mne.io.read_raw_fif(EEG_SAMPLE_2)"
   ]
  },
  {
   "cell_type": "markdown",
   "metadata": {},
   "source": [
    "Next, we're going to need a plotting function again, so let's write one up! You should know how to do this by now, so we made it for you :)"
   ]
  },
  {
   "cell_type": "code",
   "execution_count": null,
   "metadata": {},
   "outputs": [],
   "source": [
    "def plot_eeg(t, eeg):\n",
    "    plt.rcParams['figure.figsize'] = [140, 12]\n",
    "\n",
    "    fig = plt.figure()\n",
    "    \n",
    "    ax_start = 0.1\n",
    "    ax_step = (0.9 - 0.1) / eeg.shape[0] # Divide graph into channels\n",
    "    \n",
    "    axes= []\n",
    "    colours = ['#A283C4', '#8B2BC4', '#3978E0', '#FFA500', '#3CB2BA', '#FF7685']\n",
    "    \n",
    "    for i in range(eeg.shape[0]):\n",
    "        axes.append(fig.add_axes([0.1, ax_start + i * ax_step, 0.9, ax_step]))\n",
    "    \n",
    "    for i in range(eeg.shape[0]):\n",
    "        axes[i].plot(t, eeg[eeg.shape[0] - i - 1], color=colours[i % len(colours)])\n",
    "\n",
    "    plt.xticks(np.arange(t[0], t[-1], 1.0))\n",
    "\n",
    "    fig.show()"
   ]
  },
  {
   "cell_type": "markdown",
   "metadata": {},
   "source": [
    "MNE loads data into things called **Raw objects**. They actually operate just like lists for the most part, but also have some other nifty features like saving the sampling frequency of the data, labels for different events (like eye blink, bad data, etc). Here, we're going to extract data from 3.0 seconds in the sample all the way till 40.0 seconds. You're going end up with a list of lists:\n",
    "\n",
    "`[left_ear_list, left_forehead_list, right_forehead_list, right_ear_list, empty_list, aux_electrode_list]`\n",
    "\n",
    "You're only going to need the first 4 lists for this experiment, but the aux_electrode_list does contain some interesting stuff!"
   ]
  },
  {
   "cell_type": "code",
   "execution_count": null,
   "metadata": {},
   "outputs": [],
   "source": [
    "time_start = 3.0\n",
    "time_end = 40.0\n",
    "\n",
    "sampling_freq_1 = eeg_fif_1.info['sfreq']\n",
    "\n",
    "# Returns both EEG data and timestamps\n",
    "eeg1, t1 = eeg_fif_1[:, int(sampling_freq_1 * time_start):int(sampling_freq_1 * time_end)]\n",
    "\n",
    "# Plotting just the EEG channels: try this yourself!"
   ]
  },
  {
   "cell_type": "markdown",
   "metadata": {},
   "source": [
    "Enough setup, let's get into the fun stuff! Last lecture, we mentioned that you can tell a lot about a person's head from looking at the *frequencies* of brainwaves and their associated *amplitudes* in **volts**. It turns out that a slightly more useful / standard comparison is *power vs frequencies*, where power is the amount of energy transferred per second. Both comparisons are analogous to each other but *power vs frequencies* is slightly more useful / makes a bit more sense. This comparison is called the ***power spectrum***, and the analysis you're about to do is called ***power spectral analysis***.\n",
    "\n",
    "(Side question: why is it that the power spectrum and the FFT tells us similar thing in this case? Hint: Use Ohm's Law: V = I/R)\n",
    "\n",
    "Let's try it out! The following function will help you get the power spectrum of the EEG data:\n",
    "\n",
    "```\n",
    "# Note: this function returns both the power spectrum, and the frequencies the spectrum is associated with\n",
    "freq_1_l_ear, psd_1_l_ear = biosppy.tools.power_spectrum(signal=eeg1[0], # Only accepts 1 channel of data\n",
    "                   sampling_rate=sampling_freq_1,\n",
    "                   pad=None,\n",
    "                   pow2=False,\n",
    "                   decibel=True) # 10 decibel increase -> increase in power by a FACTOR of 10\n",
    "```\n",
    "Try plotting power vs frequency! What do you notice?"
   ]
  },
  {
   "cell_type": "code",
   "execution_count": null,
   "metadata": {},
   "outputs": [],
   "source": [
    "# Get your power spectrum here!\n"
   ]
  },
  {
   "cell_type": "code",
   "execution_count": null,
   "metadata": {
    "scrolled": true
   },
   "outputs": [],
   "source": [
    "plt.rcParams['figure.figsize'] = [14, 6]\n",
    "# ... and graph your power spectrum here!\n"
   ]
  },
  {
   "cell_type": "markdown",
   "metadata": {},
   "source": [
    "There's a massive spike at 60Hz, and 120 Hz! Where do you think that is coming from? Try cleaning the data with the methods we learned so far! Feel free to experiment with variables like the order of the filter, etc and see how that affects your data and power spectrum by plotting both.\n",
    "\n",
    "Note: biosppy's filter function can accept multi-channel data! However, it expects the matrix to have dimensions of time * channels, instead of channels * time! You can 'rotate' the matrix like this: `eeg1.T`\n",
    "\n",
    "Note 2: usually we'd want to do something called a **notch filter**, which removes a specific frequency. However, biosppy unfortunately doesn't have it. You can use MNE's notch filter if you like, but *you don't have to if you're already low-pass filtering the data*\n",
    "\n",
    "`\n",
    "mne.filter.notch_filter(eeg_list, sampling_freq, freq_to_notch) # eeg_list takes in all four channels! Dims channels * time\n",
    "`"
   ]
  },
  {
   "cell_type": "code",
   "execution_count": null,
   "metadata": {},
   "outputs": [],
   "source": [
    "def filter_data(data):\n",
    "    # Filter your data here!\n",
    "    \n",
    "    return filtered_data"
   ]
  },
  {
   "cell_type": "code",
   "execution_count": null,
   "metadata": {},
   "outputs": [],
   "source": [
    "filt_eeg1 = (filter_data(eeg1.T)).T\n",
    "# filt_eeg = mne.filter.notch_filter(eeg, sampling_freq, 60.0) # Optionally, you can do this INSTEAD"
   ]
  },
  {
   "cell_type": "code",
   "execution_count": null,
   "metadata": {},
   "outputs": [],
   "source": [
    "# Plot your data!"
   ]
  },
  {
   "cell_type": "code",
   "execution_count": null,
   "metadata": {},
   "outputs": [],
   "source": [
    "# Try computing the power spectrum again! What does it look like? Adjust your filter_data as necessary\n"
   ]
  },
  {
   "cell_type": "markdown",
   "metadata": {},
   "source": [
    "The data looks a lot nicer, and we can kind of tell what's happening in the brain! Question: what do you think the person is doing when this data is being collected? (This is a trick question :P ... you're going to have to look both at the time data and the power spectrum to solve this one).\n",
    "\n",
    "Enter your answer below"
   ]
  },
  {
   "cell_type": "code",
   "execution_count": null,
   "metadata": {},
   "outputs": [],
   "source": [
    "# What was the person doing? Enter your answer as a comment!\n",
    "# Answer: _"
   ]
  },
  {
   "cell_type": "markdown",
   "metadata": {},
   "source": [
    "Let's start summarizing information now, so that we can actually use it! We can ***average*** the power spectrum in ***frequency bands*** we are interested in! For example, we could get the average band powers in the theta, alpha, beta, etc power bands! There's a function in biosppy *specifically* to help you with this! Try finding it :), and plot what you find! What do you think is happening in this subject's brain, and what do you think they are doing?"
   ]
  },
  {
   "cell_type": "code",
   "execution_count": null,
   "metadata": {},
   "outputs": [],
   "source": [
    "# Get your power bands here!"
   ]
  },
  {
   "cell_type": "code",
   "execution_count": null,
   "metadata": {},
   "outputs": [],
   "source": [
    "# ... and plot them here! Plot 1 power band at a time (or you can use sub-plots to plot all of them if you want!)\n",
    "# What are the units for the x-axis? y-axis?"
   ]
  },
  {
   "cell_type": "markdown",
   "metadata": {},
   "source": [
    "Yay! We analyzed the first sample of EEG. Now let's try analyzing the second EEG dataset! (This dataset has 79 EEG channels! We're only going to explore one of them :)).\n",
    "\n",
    "This time, don't use the biosppy.eeg.power_bands() function; use biosppy.tools.band_power instead! Here's the docstring:\n",
    "\n",
    "```\n",
    "def band_power(freqs=None, power=None, frequency=None, decibel=True):\n",
    "\n",
    "    \"\"\"Compute the avearge power in a frequency band.\n",
    "    Parameters\n",
    "    ----------\n",
    "    freqs : array\n",
    "        Array of frequencies (Hz) at which the power was computed.\n",
    "    power : array\n",
    "        Input power spectrum.\n",
    "    frequency : list, array\n",
    "        Pair of frequencies defining the band.\n",
    "    decibel : bool, optional\n",
    "        If True, input power is in decibels.\n",
    "\n",
    "    Returns\n",
    "    -------\n",
    "    avg_power : float\n",
    "        The average power in the band.\n",
    "    \"\"\"\n",
    "```\n",
    "\n",
    "Note: if you want more info about the dataset, you can try running the following: `eeg_fif.info` (for a Raw obj called 'eeg-fif' )"
   ]
  },
  {
   "cell_type": "code",
   "execution_count": null,
   "metadata": {},
   "outputs": [],
   "source": [
    "sampling_freq_2 = eeg_fif_2.info['sfreq']\n",
    "\n",
    "# Returns both EEG data and timestamps. We're only going to analyze Fp1, Fpz, and Fp2 to make things easier :D\n",
    "chs = [eeg_fif_2.ch_names.index('Fpz')]\n",
    "eeg2, t2 = eeg_fif_2[chs, int(sampling_freq_2 * time_start):int(sampling_freq_2 * time_end)]\n",
    "\n",
    "# Plotting just the EEG channels\n",
    "plot_eeg(t2, eeg2)"
   ]
  },
  {
   "cell_type": "code",
   "execution_count": null,
   "metadata": {},
   "outputs": [],
   "source": [
    "# Plot your power spectrum! What do you think the person is doing by looking at this data?\n",
    "# Your code:\n",
    "\n",
    "# Your answer: ___"
   ]
  },
  {
   "cell_type": "markdown",
   "metadata": {},
   "source": [
    "So we said that we're going to use *biosppy.tools.band_power()* instead! By doing this we're going to learn some important concepts when it comes to analyzing live data.\n",
    "\n",
    "First of all, it's kind of boring just to see the power spectrum overall! It would be really cool to explore how the power spectrum *changes* over time. However, from Nyquist's theorem we know that we need a certain number of data samples to analyze certain frequencies!\n",
    "\n",
    "The answer lies in *windowing*. At time **t**, we can *look at the last n seconds of data* instead of the full dataset! If we slide our window through time (ie incrementing t, and looking at the last n seconds of data), we can see how the bandpowers are changing!\n",
    "\n",
    "But what if something interesting happens between two windows! To fix that problem, we can have the windows overlap :)\n",
    "\n",
    "Try it yourself! If you're stuck, don't worry! We're here to help you :)"
   ]
  },
  {
   "cell_type": "code",
   "execution_count": null,
   "metadata": {},
   "outputs": [],
   "source": [
    "# What should your window length be? Use Nyquist's theorem to help you with this\n",
    "# There should generally be an overlap of half your window size\n",
    "window_length = \n",
    "overlap = \n",
    "\n",
    "band_powers = [] # Should have dims: n time points * 5 bands\n",
    "\n",
    "# Each band has a low-freq and a high-freq, so you can represent bands as [low-freq, high-freq]\n",
    "bands = [[_, _], [_, _], [_, _], [_, _], [_, _]] # [Delta, theta, alpha, beta, gamma]\n",
    "\n",
    "# You data is in terms of indices, not times! At what indices do you want to take a window?\n",
    "# Get the appropriate times that correlate to the indices as well; we'll need them for graphing\n",
    "inds = _\n",
    "times = _\n",
    "\n",
    "# For each window:\n",
    "    powers = [] # Band powers for this window\n",
    "    # For each band we want to compute:\n",
    "        # Compute your band powers!\n",
    "    band_powers.append(powers)\n",
    "\n",
    "# Plot your data! What do you notice?\n"
   ]
  },
  {
   "cell_type": "markdown",
   "metadata": {},
   "source": [
    "Congrats on doing your first 'live' EEG analysis! Next session, we're going to try and make a BCI!"
   ]
  }
 ],
 "metadata": {
  "kernelspec": {
   "display_name": "Python 3",
   "language": "python",
   "name": "python3"
  },
  "language_info": {
   "codemirror_mode": {
    "name": "ipython",
    "version": 3
   },
   "file_extension": ".py",
   "mimetype": "text/x-python",
   "name": "python",
   "nbconvert_exporter": "python",
   "pygments_lexer": "ipython3",
   "version": "3.6.6"
  }
 },
 "nbformat": 4,
 "nbformat_minor": 2
}
