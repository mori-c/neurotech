{
 "cells": [
  {
   "cell_type": "markdown",
   "metadata": {},
   "source": [
    "# Week 2a: Working with data"
   ]
  },
  {
   "cell_type": "markdown",
   "metadata": {},
   "source": [
    "Great job in learning the basics of programming; now we're ready to play with EEG data! Today we will try and load data from a pre-existing file, and we will try to graph the data. Ready?"
   ]
  },
  {
   "cell_type": "code",
   "execution_count": null,
   "metadata": {},
   "outputs": [],
   "source": [
    "%load_ext autoreload\n",
    "%autoreload 2\n",
    "\n",
    "import csv\n",
    "import matplotlib.pyplot as plt # So that I don't have to write matplotlib.pyplot.func() every time :D\n",
    "import numpy as np # Same thing as ^"
   ]
  },
  {
   "cell_type": "markdown",
   "metadata": {},
   "source": [
    "The simplest way to save data in Python is using CSV files! CSV, or Comma Separated Values, are essentially text documents that look like this:\n",
    "\n",
    "```\n",
    "col_1, col_2, col_3\n",
    "1.0, 2.0, 3.0\n",
    "3.1, 4.1, 5.9\n",
    "```\n",
    "\n",
    "Note how each row is a new line in the CSV, and columns are represented by commas!"
   ]
  },
  {
   "cell_type": "markdown",
   "metadata": {},
   "source": [
    "Let's try to read some data from a CSV! Here, we have EEG data from the frontal lobe of a person blinking using the Muse headband. Try printing the data :)"
   ]
  },
  {
   "cell_type": "code",
   "execution_count": null,
   "metadata": {},
   "outputs": [],
   "source": [
    "# Open the file\n",
    "with open('./../data/stare_blink.csv') as csvfile:\n",
    "    reader = csv.DictReader(csvfile) # Reader to read from CSV\n",
    "    \n",
    "    # Read each row\n",
    "    for row in reader:  \n",
    "        # Try printing the data here! What type is row?"
   ]
  },
  {
   "cell_type": "markdown",
   "metadata": {},
   "source": [
    "Note that each row is a **dictionary**, where the *key* is the column name from line 1. You can access a particular cell in a row like this:\n",
    "\n",
    "```\n",
    "row['l_ear']\n",
    "```\n",
    "\n",
    "Try to save the data into 4 lists, and print out your lists. Did it work?\n",
    "\n",
    "```\n",
    "l_ear_arr\n",
    "l_forehead_arr\n",
    "r_forehead_arr\n",
    "r_ear_arr\n",
    "```"
   ]
  },
  {
   "cell_type": "code",
   "execution_count": null,
   "metadata": {},
   "outputs": [],
   "source": [
    "# Saving Muse EEG values in list: one for each electrode\n",
    "# Values saved should be FLOATS: aka decimal numbers\n",
    "l_ear_arr = []\n",
    "l_forehead_arr = []\n",
    "r_forehead_arr = []\n",
    "r_ear_arr = []\n",
    "\n",
    "# Open file, read data, and store floats in lists\n",
    "        # row['l_ear'] is a STRING, so need to convert to FLOAT"
   ]
  },
  {
   "cell_type": "markdown",
   "metadata": {},
   "source": [
    "Now it's time to see what the data looks like! We will use *matplotlib* to graph our data.\n",
    "\n",
    "We imported *matplotlib* as *plt* in the beginning of this notebook! It has a function called\n",
    "\n",
    "`plt.plot(values_list)`\n",
    "\n",
    ",where values is the list you want to plot. Try plotting the EEG values from the left ear!"
   ]
  },
  {
   "cell_type": "code",
   "execution_count": null,
   "metadata": {},
   "outputs": [],
   "source": []
  },
  {
   "cell_type": "markdown",
   "metadata": {},
   "source": [
    "That graph looks really tiny :( ... let's try and make it a bit bigger! You can set the dimensions with the following function:\n",
    "\n",
    "```\n",
    "plt.rcParams['figure.figsize'] = [*width*, *height*]\n",
    "```\n",
    "\n",
    "After you set the dimensions, you can try plotting again! Once you get the graph on Jupyter, double-click it to make it full-sized."
   ]
  },
  {
   "cell_type": "code",
   "execution_count": null,
   "metadata": {},
   "outputs": [],
   "source": []
  },
  {
   "cell_type": "markdown",
   "metadata": {},
   "source": [
    "Right now, we're only graphing the EEG data from the left ear. But what if we want to see the data from all the electrodes? You'll often want to do this to see how the data changes with respect to all the electrodes.\n",
    "\n",
    "In the example above, we graphed one ***plot*** in the ***figure***. You can use ***subplots*** to plot multiple *plots* in the same *figure*!\n",
    "\n",
    "First, you'll need to get the figure like this:\n",
    "\n",
    "```\n",
    "fig = plt.figure()\n",
    "```\n",
    "\n",
    "Now, you can add your axes for each graph! The graphs will be stacked on top of each other, so you have to set their coordinates to specify where they'll be placed. The bottom of the canvas is 0, and the top is 1. You can do that like this:\n",
    "\n",
    "```\n",
    "ax_1 = fig.add_axes([ *left coord*, *bottom coord*, *width*, *height*]) # These values are floats in 0.0->1.0\n",
    "```\n",
    "\n",
    "All you have to do now is graph! Instead of getting the *figure* to graph, you will graph directly onto the *plot axes*, like this:\n",
    "\n",
    "```\n",
    "ax_1.plot(*data_list*)\n",
    "```\n",
    "\n",
    "Try it yourself! Graph data from all four electrodes below :) Try comparing the voltage values you get across electrodes ... what do you observe?"
   ]
  },
  {
   "cell_type": "code",
   "execution_count": null,
   "metadata": {},
   "outputs": [],
   "source": [
    "# Make your figures here, and call it 'fig'\n",
    "\n",
    "fig.show() #This renders 'fig'"
   ]
  },
  {
   "cell_type": "markdown",
   "metadata": {},
   "source": [
    "Do you notice something weird about the x-axis? What does it currently represent?\n",
    "\n",
    "Right now, the x axis is indexing *sample number*, but that's not that useful to us! This data was collected over a period of time ... so it probably makes more sense to have ***seconds*** as the unit for the x-axis.\n",
    "\n",
    "Note that we didn't even pass in any x-axis data to the plots! *plt.plot()* made an assumption that the x-axis values would look like this:\n",
    "\n",
    "```\n",
    "[0, 1, 2, 3, 4, 5, 6, ...]\n",
    "```\n",
    "\n",
    "We can instead manually pass in our own x-axis values like this:\n",
    "\n",
    "```\n",
    "plt.plot(*x-axis data*, *y-axis data*) # Both items passed in are lists\n",
    "```\n",
    "\n",
    "Try it yourself! Create x-axis values ***that represent what time the voltage value in the y-axis array was collected***. The first value will have been collected at time 0s, and samples are collected 256 times per second. Also try to *make the x-axis ticks at intervals of 1 second*; use Google for this task!"
   ]
  },
  {
   "cell_type": "code",
   "execution_count": null,
   "metadata": {},
   "outputs": [],
   "source": []
  },
  {
   "cell_type": "markdown",
   "metadata": {},
   "source": [
    "These graphs are looking pretty nice! Let's add a splash of colour by plotting like this:\n",
    "\n",
    "```\n",
    "ax_1.plot(t, y_data, color='#000000') # You can choose whatever colour you want! Here it's in HEX format\n",
    "```"
   ]
  },
  {
   "cell_type": "code",
   "execution_count": null,
   "metadata": {
    "scrolled": true
   },
   "outputs": [],
   "source": []
  },
  {
   "cell_type": "markdown",
   "metadata": {},
   "source": [
    "Notice that the signal looks really noisy! This is because there are many sources of noise that affect the EEG reading we collected, from our skin not being a good conductor to the electric fields of literally every electrical appliance in the room! In a bit, we'll try to clean up the data. But for now ... ***awesome job on parsing your first CSV file and making your first graphs!***"
   ]
  }
 ],
 "metadata": {
  "kernelspec": {
   "display_name": "Python 3",
   "language": "python",
   "name": "python3"
  },
  "language_info": {
   "codemirror_mode": {
    "name": "ipython",
    "version": 3
   },
   "file_extension": ".py",
   "mimetype": "text/x-python",
   "name": "python",
   "nbconvert_exporter": "python",
   "pygments_lexer": "ipython3",
   "version": "3.6.6"
  }
 },
 "nbformat": 4,
 "nbformat_minor": 2
}
